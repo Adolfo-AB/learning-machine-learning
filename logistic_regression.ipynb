{
  "nbformat": 4,
  "nbformat_minor": 0,
  "metadata": {
    "colab": {
      "provenance": [],
      "authorship_tag": "ABX9TyNKtlHd9U28T34KqrHabEUt",
      "include_colab_link": true
    },
    "kernelspec": {
      "name": "python3",
      "display_name": "Python 3"
    },
    "language_info": {
      "name": "python"
    }
  },
  "cells": [
    {
      "cell_type": "markdown",
      "metadata": {
        "id": "view-in-github",
        "colab_type": "text"
      },
      "source": [
        "<a href=\"https://colab.research.google.com/github/Adolfo-AB/learning-machine-learning/blob/main/logistic_regression.ipynb\" target=\"_parent\"><img src=\"https://colab.research.google.com/assets/colab-badge.svg\" alt=\"Open In Colab\"/></a>"
      ]
    },
    {
      "cell_type": "markdown",
      "source": [
        "# Gradient Descent with Logistic Regression\n",
        "Implementation of the gradient descent algorithm with a logistic regression model"
      ],
      "metadata": {
        "id": "GHPiXNWyS0Mq"
      }
    },
    {
      "cell_type": "code",
      "execution_count": null,
      "metadata": {
        "id": "Q4HvyMpHSmiD"
      },
      "outputs": [],
      "source": [
        "import numpy as np\n",
        "import matplotlib.pyplot as plt"
      ]
    },
    {
      "cell_type": "code",
      "source": [
        "# Create the training data set\n",
        "x_train = np.array([[0.5, 1.5], [1,1], [1.5, 0.5], [3, 0.5], [2, 2], [1, 2.5]])\n",
        "y_train = np.array([0, 0, 0, 1, 1, 1])\n",
        "\n",
        "# Plot the training data\n",
        "class_0_idx = np.where(y_train == 0)\n",
        "class_1_idx = np.where(y_train == 1)\n",
        "\n",
        "plt.scatter(x_train[class_0_idx, 0], x_train[class_0_idx, 1], marker='x', color='r', s=100)\n",
        "plt.scatter(x_train[class_1_idx, 0], x_train[class_1_idx, 1], marker='o', color='b', s=100)\n",
        "plt.xlabel('Feature 1')\n",
        "plt.ylabel('Feature 2')\n",
        "\n",
        "plt.show()"
      ],
      "metadata": {
        "colab": {
          "base_uri": "https://localhost:8080/",
          "height": 279
        },
        "id": "JJUcN7UYTGNu",
        "outputId": "51597846-c95d-4d52-ec43-56b340a82714"
      },
      "execution_count": null,
      "outputs": [
        {
          "output_type": "display_data",
          "data": {
            "text/plain": [
              "<Figure size 432x288 with 1 Axes>"
            ],
            "image/png": "[encoded data removed]"
          },
          "metadata": {
            "needs_background": "light"
          }
        }
      ]
    },
    {
      "cell_type": "code",
      "source": [
        "def sigmoid(z):\n",
        "  return 1/(1+np.exp(-z))\n",
        "\n",
        "\n",
        "def compute_gradient(x, y, w, b):\n",
        "  m, n = x.shape\n",
        "  dj_dw = np.zeros(n)\n",
        "  dj_db = 0\n",
        "\n",
        "  for i in range(m):\n",
        "    f_wb = sigmoid(np.dot(x[i],w)+b)\n",
        "    error = f_wb - y[i]\n",
        "    for j in range(n):\n",
        "      dj_dw[j] += error*x[i,j]\n",
        "    dj_db += error\n",
        "\n",
        "  return dj_dw/m, dj_db/m\n",
        "\n",
        "\n",
        "def compute_cost(x, y, w, b):\n",
        "  cost = 0\n",
        "  for i in range(x.shape[0]):\n",
        "    cost += y[i]*np.log(sigmoid(np.dot(x[i],w)+b)) + (1-y[i])*np.log(1-sigmoid(np.dot(x[i],w)+b))\n",
        "\n",
        "  return -cost/(x.shape[0])\n",
        "\n",
        "\n",
        "def gradient_descent(x, y, w, b, alpha, num_iters=10000):\n",
        "  cost_history = []\n",
        "\n",
        "  for i in range(num_iters):\n",
        "    dj_dw, dj_db = compute_gradient(x, y, w, b)\n",
        "\n",
        "    w -= alpha*dj_dw\n",
        "    b -= alpha*dj_db\n",
        "\n",
        "    cost_history.append(compute_cost(x, y, w, b))\n",
        "\n",
        "  return w, b, cost_history"
      ],
      "metadata": {
        "id": "UgywlvNkUM59"
      },
      "execution_count": null,
      "outputs": []
    },
    {
      "cell_type": "code",
      "source": [
        "w_tmp  = np.zeros_like(x_train[0])\n",
        "b_tmp  = 0.\n",
        "alpha = 0.1\n",
        "num_iters = 10000\n",
        "\n",
        "w_out, b_out, _ = gradient_descent(x_train, y_train, w_tmp, b_tmp, alpha, num_iters) \n",
        "print(f\"\\nupdated parameters: w:{w_out}, b:{b_out}\")"
      ],
      "metadata": {
        "colab": {
          "base_uri": "https://localhost:8080/"
        },
        "id": "CgxTiau3Ujoq",
        "outputId": "5b1ebd8b-9d61-4008-e796-05024df2feae"
      },
      "execution_count": null,
      "outputs": [
        {
          "output_type": "stream",
          "name": "stdout",
          "text": [
            "\n",
            "updated parameters: w:[5.28123029 5.07815608], b:-14.222409982019837\n"
          ]
        }
      ]
    },
    {
      "cell_type": "code",
      "source": [
        "plt.scatter(x_train[class_0_idx, 0], x_train[class_0_idx, 1], marker='x', color='r', s=100)\n",
        "plt.scatter(x_train[class_1_idx, 0], x_train[class_1_idx, 1], marker='o', color='b', s=100)\n",
        "\n",
        "x0 = -b_out/w_out[0]\n",
        "x1 = -b_out/w_out[1]\n",
        "plt.plot([0,x0],[x1,0], c=\"orange\", lw=1)\n",
        "\n",
        "plt.xlabel('Feature 1')\n",
        "plt.ylabel('Feature 2')\n",
        "\n",
        "plt.show()"
      ],
      "metadata": {
        "colab": {
          "base_uri": "https://localhost:8080/",
          "height": 279
        },
        "id": "hNUBNELHZ46q",
        "outputId": "9ec10f1a-dad2-4376-c000-10cd0dea4581"
      },
      "execution_count": null,
      "outputs": [
        {
          "output_type": "display_data",
          "data": {
            "text/plain": [
              "<Figure size 432x288 with 1 Axes>"
            ],
            "image/png": "[encoded data removed]"
          },
          "metadata": {
            "needs_background": "light"
          }
        }
      ]
    }
  ]
}