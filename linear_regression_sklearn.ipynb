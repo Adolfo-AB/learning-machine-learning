{
  "nbformat": 4,
  "nbformat_minor": 0,
  "metadata": {
    "colab": {
      "provenance": [],
      "authorship_tag": "ABX9TyMHbw+a1/RvmwdybrriLFYU",
      "include_colab_link": true
    },
    "kernelspec": {
      "name": "python3",
      "display_name": "Python 3"
    },
    "language_info": {
      "name": "python"
    }
  },
  "cells": [
    {
      "cell_type": "markdown",
      "metadata": {
        "id": "view-in-github",
        "colab_type": "text"
      },
      "source": [
        "<a href=\"https://colab.research.google.com/github/Adolfo-AB/learning-machine-learning/blob/main/linear_regression_sklearn.ipynb\" target=\"_parent\"><img src=\"https://colab.research.google.com/assets/colab-badge.svg\" alt=\"Open In Colab\"/></a>"
      ]
    },
    {
      "cell_type": "markdown",
      "source": [
        "# Linear Regression Model using scikit-learn\n",
        "Implementation of a Linear Regression Model using scikit-learn"
      ],
      "metadata": {
        "id": "tfTlne5uR-9n"
      }
    },
    {
      "cell_type": "code",
      "execution_count": 11,
      "metadata": {
        "id": "mztj_apfR7xj"
      },
      "outputs": [],
      "source": [
        "import numpy as np\n",
        "import matplotlib.pyplot as plt\n",
        "from sklearn.preprocessing import StandardScaler\n",
        "from sklearn.linear_model import LinearRegression"
      ]
    },
    {
      "cell_type": "code",
      "source": [
        "# Create training data that simulates housing prices with respect to 4 features\n",
        "size = np.array([100, 60, 120, 400, 44])\n",
        "number_of_rooms = np.array([4, 2, 4, 10, 1])\n",
        "number_of_floors = np.array([2, 1, 2, 3, 1])\n",
        "distance_to_city_center = np.array([1, 1, 3, 10, 4])\n",
        "x_train = np.array ([size, number_of_rooms, number_of_floors, distance_to_city_center])\n",
        "y_train = np.array([300, 180, 275, 600, 120])\n",
        "\n",
        "print(f\"Shapes of training set variables: X => {x_train.shape}, Y => {y_train.shape}\")\n",
        "\n",
        "# Normalize the training data\n",
        "scaler = StandardScaler()\n",
        "scaler.fit(x_train.T)\n",
        "x_train_normalized = scaler.transform(x_train.T).T"
      ],
      "metadata": {
        "colab": {
          "base_uri": "https://localhost:8080/"
        },
        "id": "EaziB31SU2BX",
        "outputId": "805ec277-9dd8-453c-9265-06a0b629f862"
      },
      "execution_count": 7,
      "outputs": [
        {
          "output_type": "stream",
          "name": "stdout",
          "text": [
            "Shapes of training set variables: X => (4, 5), Y => (5,)\n"
          ]
        }
      ]
    },
    {
      "cell_type": "code",
      "source": [
        "# Create and fit the Linear Regression model\n",
        "model = LinearRegression()\n",
        "model.fit(x_train_normalized.T, y_train)"
      ],
      "metadata": {
        "colab": {
          "base_uri": "https://localhost:8080/"
        },
        "id": "rQ3cd3mbYXgV",
        "outputId": "93cb332b-b700-49d2-ab69-6e76178cfb44"
      },
      "execution_count": 13,
      "outputs": [
        {
          "output_type": "execute_result",
          "data": {
            "text/plain": [
              "LinearRegression()"
            ]
          },
          "metadata": {},
          "execution_count": 13
        }
      ]
    },
    {
      "cell_type": "code",
      "source": [
        "# Create some new data to see the predictions fo the model\n",
        "size_new = np.array([57, 220, 66])\n",
        "number_of_rooms_new = np.array([1, 6, 2])\n",
        "number_of_floors_new = np.array([1, 2, 1])\n",
        "distance_to_city_center_new = np.array([1, 5, 3])\n",
        "x_test = np.array ([size_new, number_of_rooms_new, number_of_floors_new, distance_to_city_center_new])\n",
        "x_test_normalized = scaler.transform(x_test.T).T\n",
        "\n",
        "# Generate some predictions with the model\n",
        "y_pred = model.predict(x_train_normalized.T)"
      ],
      "metadata": {
        "colab": {
          "base_uri": "https://localhost:8080/"
        },
        "id": "LVviCaxXY81z",
        "outputId": "44100f67-f49b-40db-970a-1a22ce925c8c"
      },
      "execution_count": 24,
      "outputs": [
        {
          "output_type": "stream",
          "name": "stdout",
          "text": [
            "(5,)\n"
          ]
        }
      ]
    },
    {
      "cell_type": "code",
      "source": [
        "# plot predictions and targets vs original features    \n",
        "fig,ax=plt.subplots(1,4,figsize=(12,3),sharey=True)\n",
        "for i in range(len(ax)):\n",
        "    ax[i].scatter(x_train[i,:],y_train, label = 'target')\n",
        "    ax[i].set_xlabel(x_train[i])\n",
        "    ax[i].scatter(x_train[i,:],y_pred,color='orange', alpha=0.5, label = 'predict')\n",
        "ax[0].set_ylabel(\"Price\"); ax[0].legend();\n",
        "fig.suptitle(\"target versus prediction using z-score normalized model\")\n",
        "plt.show()"
      ],
      "metadata": {
        "colab": {
          "base_uri": "https://localhost:8080/",
          "height": 284
        },
        "id": "SD-WG9JhbeFP",
        "outputId": "fb271d54-7f6b-4dc3-b301-aa080587a64f"
      },
      "execution_count": 27,
      "outputs": [
        {
          "output_type": "stream",
          "name": "stderr",
          "text": [
            "/usr/local/lib/python3.8/dist-packages/matplotlib/text.py:1223: FutureWarning: elementwise comparison failed; returning scalar instead, but in the future will perform elementwise comparison\n",
            "  if s != self._text:\n"
          ]
        },
        {
          "output_type": "display_data",
          "data": {
            "text/plain": [
              "<Figure size 864x216 with 4 Axes>"
            ],
            "image/png": "[encoded data removed]"
          },
          "metadata": {
            "needs_background": "light"
          }
        }
      ]
    }
  ]
}