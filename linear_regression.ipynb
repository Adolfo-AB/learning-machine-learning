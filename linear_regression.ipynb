{
  "nbformat": 4,
  "nbformat_minor": 0,
  "metadata": {
    "colab": {
      "provenance": [],
      "authorship_tag": "ABX9TyPFn9RB3SrA/sEzXE2ECt8v",
      "include_colab_link": true
    },
    "kernelspec": {
      "name": "python3",
      "display_name": "Python 3"
    },
    "language_info": {
      "name": "python"
    }
  },
  "cells": [
    {
      "cell_type": "markdown",
      "metadata": {
        "id": "view-in-github",
        "colab_type": "text"
      },
      "source": [
        "<a href=\"https://colab.research.google.com/github/Adolfo-AB/learning-machine-learning/blob/main/linear_regression.ipynb\" target=\"_parent\"><img src=\"https://colab.research.google.com/assets/colab-badge.svg\" alt=\"Open In Colab\"/></a>"
      ]
    },
    {
      "cell_type": "markdown",
      "source": [
        "# Linear Regression Model\n",
        "Implementing a Linear Regression model with Gradient Descent."
      ],
      "metadata": {
        "id": "5ETkhsoy8tPA"
      }
    },
    {
      "cell_type": "code",
      "source": [
        "import numpy as np\n",
        "import matplotlib.pyplot as plt\n",
        "import math\n",
        "\n",
        "SIZE = 50"
      ],
      "metadata": {
        "id": "iJW9VRHc87zw"
      },
      "execution_count": 148,
      "outputs": []
    },
    {
      "cell_type": "code",
      "source": [
        "# Load our data set\n",
        "x_train = np.array([1.0, 2.0])   #features\n",
        "y_train = np.array([300.0, 500.0])   #target value"
      ],
      "metadata": {
        "id": "nn_nDK1c9CmQ"
      },
      "execution_count": 160,
      "outputs": []
    },
    {
      "cell_type": "code",
      "source": [
        "# Create a new figure\n",
        "plt.figure()\n",
        "\n",
        "# Plot the vectors\n",
        "plt.scatter(x_train, y_train)\n",
        "\n",
        "# Add a title and axis labels\n",
        "plt.title('Training data')\n",
        "plt.xlabel('X-axis')\n",
        "plt.ylabel('Y-axis')\n",
        "\n",
        "# Show the plot\n",
        "plt.show()"
      ],
      "metadata": {
        "colab": {
          "base_uri": "https://localhost:8080/",
          "height": 295
        },
        "id": "mLauU9Gy-yB4",
        "outputId": "cbd1dcc7-fa3e-4b19-da7a-5b2a0243ff2c"
      },
      "execution_count": 161,
      "outputs": [
        {
          "output_type": "display_data",
          "data": {
            "text/plain": [
              "<Figure size 432x288 with 1 Axes>"
            ],
            "image/png": "[encoded data removed]"
          },
          "metadata": {
            "needs_background": "light"
          }
        }
      ]
    },
    {
      "cell_type": "code",
      "source": [
        "NUM_ITERATIONS = 100\n",
        "\n",
        "def compute_cost(x, y, w, b):\n",
        "  m = x.shape[0] \n",
        "  cost = 0\n",
        "  \n",
        "  for i in range(m):\n",
        "      f_wb = w * x[i] + b\n",
        "      cost = cost + (f_wb - y[i])**2\n",
        "  total_cost = 1 / (2 * m) * cost\n",
        "\n",
        "  return total_cost\n",
        "\n",
        "def compute_gradient(x, y, w, b): \n",
        "  m = x.shape[0]\n",
        "  w_gradient = 0\n",
        "  b_gradient = 0\n",
        "\n",
        "  for i in range(m):\n",
        "    prediction = w*x[i] + b\n",
        "    w_gradient_temp = (prediction-y[i])*x[i]\n",
        "    b_gradient_temp = (prediction-y[i])\n",
        "    w_gradient += w_gradient_temp\n",
        "    b_gradient += b_gradient_temp\n",
        "\n",
        "  return w_gradient/m, b_gradient/m\n",
        "\n",
        "def gradient_descent(x, y, w_in=0, b_in=0, alpha=0.000001, num_iters=NUM_ITERATIONS, cost_function=compute_cost, gradient_function=compute_gradient):\n",
        "  cost_history = []\n",
        "  parameters_history = []\n",
        "  b = b_in\n",
        "  w = w_in \n",
        "\n",
        "  for i in range(num_iters):\n",
        "    w_gradient, b_gradient = gradient_function(x, y, w, b)\n",
        "    w -= alpha*w_gradient\n",
        "    b -= alpha*b_gradient\n",
        "    cost_history.append(cost_function(x, y, w, b))\n",
        "    parameters_history.append((w, b))\n",
        "\n",
        "  return w, b, cost_history, parameters_history"
      ],
      "metadata": {
        "id": "z--QrCR6RLbJ"
      },
      "execution_count": 162,
      "outputs": []
    },
    {
      "cell_type": "code",
      "source": [
        "# initialize parameters\n",
        "w_init = 0\n",
        "b_init = 0\n",
        "# some gradient descent settings\n",
        "iterations = 10000\n",
        "tmp_alpha = 1.0e-2\n",
        "# run gradient descent\n",
        "w_final, b_final, J_hist, p_hist = gradient_descent(x_train ,y_train, w_init, b_init, tmp_alpha, \n",
        "                                                    iterations, compute_cost, compute_gradient)\n",
        "print(f\"(w,b) found by gradient descent: ({w_final:8.4f},{b_final:8.4f})\")"
      ],
      "metadata": {
        "colab": {
          "base_uri": "https://localhost:8080/"
        },
        "id": "xe7yufLmqipW",
        "outputId": "e31bab2d-2b7e-4739-89df-60c28b1b030d"
      },
      "execution_count": 163,
      "outputs": [
        {
          "output_type": "stream",
          "name": "stdout",
          "text": [
            "(w,b) found by gradient descent: (199.9929,100.0116)\n"
          ]
        }
      ]
    },
    {
      "cell_type": "code",
      "source": [
        "x_plot = np.linspace(min(x_train), max(x_train))\n",
        "print(x_plot)\n",
        "y_plot = w_final*x_plot + b_final\n",
        "plt.plot(x_plot, y_plot)\n",
        "plt.show()\n",
        "\n",
        "plt.plot(J_hist)\n",
        "plt.show()"
      ],
      "metadata": {
        "colab": {
          "base_uri": "https://localhost:8080/",
          "height": 678
        },
        "id": "UCZ1pxx4q8Ej",
        "outputId": "ee8bb63d-c94d-4bda-c7a5-022a3825b3ad"
      },
      "execution_count": 164,
      "outputs": [
        {
          "output_type": "stream",
          "name": "stdout",
          "text": [
            "[1.         1.02040816 1.04081633 1.06122449 1.08163265 1.10204082\n",
            " 1.12244898 1.14285714 1.16326531 1.18367347 1.20408163 1.2244898\n",
            " 1.24489796 1.26530612 1.28571429 1.30612245 1.32653061 1.34693878\n",
            " 1.36734694 1.3877551  1.40816327 1.42857143 1.44897959 1.46938776\n",
            " 1.48979592 1.51020408 1.53061224 1.55102041 1.57142857 1.59183673\n",
            " 1.6122449  1.63265306 1.65306122 1.67346939 1.69387755 1.71428571\n",
            " 1.73469388 1.75510204 1.7755102  1.79591837 1.81632653 1.83673469\n",
            " 1.85714286 1.87755102 1.89795918 1.91836735 1.93877551 1.95918367\n",
            " 1.97959184 2.        ]\n"
          ]
        },
        {
          "output_type": "display_data",
          "data": {
            "text/plain": [
              "<Figure size 432x288 with 1 Axes>"
            ],
            "image/png": "[encoded data removed]"
          },
          "metadata": {
            "needs_background": "light"
          }
        },
        {
          "output_type": "display_data",
          "data": {
            "text/plain": [
              "<Figure size 432x288 with 1 Axes>"
            ],
            "image/png": "[encoded data removed]"
          },
          "metadata": {
            "needs_background": "light"
          }
        }
      ]
    }
  ]
}